{
  "nbformat": 4,
  "nbformat_minor": 0,
  "metadata": {
    "colab": {
      "provenance": [],
      "authorship_tag": "ABX9TyMB5IRQ1kK2h8tJtsXlixu+",
      "include_colab_link": true
    },
    "kernelspec": {
      "name": "python3",
      "display_name": "Python 3"
    },
    "language_info": {
      "name": "python"
    }
  },
  "cells": [
    {
      "cell_type": "markdown",
      "metadata": {
        "id": "view-in-github",
        "colab_type": "text"
      },
      "source": [
        "<a href=\"https://colab.research.google.com/github/Yngridy08/Faculdade-ADS/blob/main/Trabalho_de_BIG_DATA.ipynb\" target=\"_parent\"><img src=\"https://colab.research.google.com/assets/colab-badge.svg\" alt=\"Open In Colab\"/></a>"
      ]
    },
    {
      "cell_type": "markdown",
      "source": [
        "# [**QUESTÃO 1**](https://)"
      ],
      "metadata": {
        "id": "MolH8qj_xcmp"
      }
    },
    {
      "cell_type": "code",
      "execution_count": 1,
      "metadata": {
        "colab": {
          "base_uri": "https://localhost:8080/"
        },
        "id": "JRDJxdRjsaXf",
        "outputId": "60634b02-4283-4269-d3be-8b94b45eed7b"
      },
      "outputs": [
        {
          "output_type": "stream",
          "name": "stdout",
          "text": [
            "--2024-12-12 17:23:48--  https://raw.githubusercontent.com/N-CPUninter/Big_Data/main/data/imdb-reviews-pt-br.zip\n",
            "Resolving raw.githubusercontent.com (raw.githubusercontent.com)... 185.199.108.133, 185.199.109.133, 185.199.110.133, ...\n",
            "Connecting to raw.githubusercontent.com (raw.githubusercontent.com)|185.199.108.133|:443... connected.\n",
            "HTTP request sent, awaiting response... 200 OK\n",
            "Length: 49549692 (47M) [application/zip]\n",
            "Saving to: ‘imdb-reviews-pt-br.zip’\n",
            "\n",
            "imdb-reviews-pt-br. 100%[===================>]  47.25M   105MB/s    in 0.5s    \n",
            "\n",
            "2024-12-12 17:23:50 (105 MB/s) - ‘imdb-reviews-pt-br.zip’ saved [49549692/49549692]\n",
            "\n",
            "Archive:  imdb-reviews-pt-br.zip\n",
            "  inflating: imdb-reviews-pt-br.csv  \n"
          ]
        }
      ],
      "source": [
        "!wget https://raw.githubusercontent.com/N-CPUninter/Big_Data/main/data/imdb-reviews-pt-br.zip -O imdb-reviews-pt-br.zip\n",
        "!unzip imdb-reviews-pt-br.zip\n",
        "!rm imdb-reviews-pt-br.zip"
      ]
    },
    {
      "cell_type": "markdown",
      "source": [],
      "metadata": {
        "id": "ytarAK8d1zgW"
      }
    },
    {
      "cell_type": "code",
      "source": [
        "!pip install pyspark"
      ],
      "metadata": {
        "colab": {
          "base_uri": "https://localhost:8080/"
        },
        "id": "MSxdQtPosk9t",
        "outputId": "3a9acbfe-2a9a-4a66-8936-29f00be73083"
      },
      "execution_count": 2,
      "outputs": [
        {
          "output_type": "stream",
          "name": "stdout",
          "text": [
            "Requirement already satisfied: pyspark in /usr/local/lib/python3.10/dist-packages (3.5.3)\n",
            "Requirement already satisfied: py4j==0.10.9.7 in /usr/local/lib/python3.10/dist-packages (from pyspark) (0.10.9.7)\n"
          ]
        }
      ]
    },
    {
      "cell_type": "code",
      "source": [
        "from pyspark.sql import SparkSession\n",
        "\n",
        "appName = \"PySpark Trabalho de Big Data\"\n",
        "master = \"local\"\n",
        "\n",
        "spark = SparkSession.builder.appName(appName).master(master).getOrCreate()"
      ],
      "metadata": {
        "id": "KbwhRBslsrvu"
      },
      "execution_count": 3,
      "outputs": []
    },
    {
      "cell_type": "code",
      "source": [
        "imdb_df = spark.read.csv('imdb-reviews-pt-br.csv',\n",
        "                         header=True,\n",
        "                         quote=\"\\\"\",\n",
        "                         escape=\"\\\"\",\n",
        "                         encoding=\"UTF-8\")"
      ],
      "metadata": {
        "id": "33khLGcctEsd"
      },
      "execution_count": 4,
      "outputs": []
    },
    {
      "cell_type": "code",
      "source": [
        "def map1(x):\n",
        "  if x['sentiment'] == 'neg':\n",
        "    return ('id', int(x['id'])) # Covertendo o ID para inteiro\n",
        "  else:\n",
        "    return ('id', 0) # Retornando 0 para outros sentimentos"
      ],
      "metadata": {
        "id": "jKLq4XZOtQYN"
      },
      "execution_count": 5,
      "outputs": []
    },
    {
      "cell_type": "code",
      "source": [
        "def reduceByKey1(x, y):\n",
        "  # Soma os IDs para cada 'sentiment'\n",
        "  return x + y"
      ],
      "metadata": {
        "id": "3haIhs-BtZ1m"
      },
      "execution_count": 6,
      "outputs": []
    },
    {
      "cell_type": "code",
      "source": [
        "# Mapear as ocorrências de IDs dos filmes classificados como negativos\n",
        "mapped_data = imdb_df.rdd.map(map1)\n",
        "\n",
        "# Reduzir para somar as ocorrências\n",
        "summed_counts = mapped_data.reduceByKey(reduceByKey1)\n",
        "\n",
        "# Obter o total de ocorrências\n",
        "total_count = summed_counts.filter(lambda x: x[0] == 'id').collect()[0][1]\n",
        "\n",
        "# Mostrar resultado\n",
        "print(\"A soma de ocorrências dos campos 'id' dos filmes classificados como negativos:\", total_count)\n",
        "print(\"RU 4424216\")"
      ],
      "metadata": {
        "colab": {
          "base_uri": "https://localhost:8080/"
        },
        "id": "M7eW_ABythHO",
        "outputId": "f6351b9a-cc63-45a9-933e-b953b3a39604"
      },
      "execution_count": 7,
      "outputs": [
        {
          "output_type": "stream",
          "name": "stdout",
          "text": [
            "A soma de ocorrências dos campos 'id' dos filmes classificados como negativos: 459568555\n",
            "RU 4424216\n"
          ]
        }
      ]
    },
    {
      "cell_type": "markdown",
      "source": [
        "# **QUESTÃO 2**\n"
      ],
      "metadata": {
        "id": "0MMF9uDk4zsj"
      }
    },
    {
      "cell_type": "code",
      "source": [
        "from pyspark.sql import SparkSession\n",
        "\n",
        "appName = \"PySpark Trabalho de Big Data\"\n",
        "master = \"local\"\n",
        "\n",
        "spark = SparkSession.builder.appName(appName).master(master).getOrCreate()"
      ],
      "metadata": {
        "id": "chTetBAu5BGq"
      },
      "execution_count": 8,
      "outputs": []
    },
    {
      "cell_type": "code",
      "source": [
        "imdb_df = spark.read.csv('imdb-reviews-pt-br.csv',\n",
        "                         header=True,\n",
        "                         quote=\"\\\"\",\n",
        "                         escape=\"\\\"\",\n",
        "                         encoding=\"UTF-8\")"
      ],
      "metadata": {
        "id": "nkfqJSVD5Hb9"
      },
      "execution_count": 9,
      "outputs": []
    },
    {
      "cell_type": "code",
      "source": [
        "def map2(x):\n",
        "  # Mapear a 'sentiment' como chave e uma tupla com a soma das palavras de cada texto como valor\n",
        "  sentiment = x['sentiment']\n",
        "  text_pt = x['text_pt']\n",
        "  text_en = x['text_en']\n",
        "  # Dividir o texto em palavras e contar o número de palavras\n",
        "  words_pt = len(text_pt.split())\n",
        "  words_en = len(text_en.split())\n",
        "\n",
        "  return (sentiment, (words_pt, words_en))"
      ],
      "metadata": {
        "id": "iw74gD3E5Noz"
      },
      "execution_count": 10,
      "outputs": []
    },
    {
      "cell_type": "code",
      "source": [
        "def reduceByKey2(x,y):\n",
        "  # Somar o número de palavras de cada texto português e inglês por 'sentiment'\n",
        "  return (x[0] + y[0], x[1] + y[1])"
      ],
      "metadata": {
        "id": "g-e0isrP7fTP"
      },
      "execution_count": 11,
      "outputs": []
    },
    {
      "cell_type": "code",
      "source": [
        "# Mapear a 'sentiment' como chave e uma tupla com a soma das palavras de cada texto como valor\n",
        "mapped_data = imdb_df.rdd.map(map2)\n",
        "\n",
        "# Reduzir para somar o número total de palavras por 'sentiment'\n",
        "word_counts = mapped_data.reduceByKey(reduceByKey2)\n",
        "\n",
        "# Coletar e mostrar resultado\n",
        "result = word_counts.collect()\n",
        "eng_pt_difference = 0\n",
        "\n",
        "for sentiment, word_count in result:\n",
        "  print(f\"Avaliação: {sentiment}, Total de Palavras em Português: {word_count[0]}, Total de Palavras em Inglês: {word_count[1]}\")\n",
        "  if(sentiment == 'neg'):\n",
        "    eng_pt_difference = word_count[0] - word_count[1]\n",
        "\n",
        "print(f\"Diferença entre o total de palavras em inglês e português para a avaliação 'neg': {eng_pt_difference}\")\n",
        "print(\"RU 4424216\")"
      ],
      "metadata": {
        "colab": {
          "base_uri": "https://localhost:8080/"
        },
        "id": "r9e1aZML8LlD",
        "outputId": "21cbe32f-2da1-4d40-f812-502c6595c031"
      },
      "execution_count": 14,
      "outputs": [
        {
          "output_type": "stream",
          "name": "stdout",
          "text": [
            "Avaliação: neg, Total de Palavras em Português: 5455273, Total de Palavras em Inglês: 5400324\n",
            "Avaliação: pos, Total de Palavras em Português: 5462204, Total de Palavras em Inglês: 5414747\n",
            "Diferença entre o total de palavras em inglês e português para a avaliação 'neg': 54949\n",
            "RU 4424216\n"
          ]
        }
      ]
    }
  ]
}